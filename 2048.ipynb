{
 "cells": [
  {
   "cell_type": "code",
   "execution_count": 9,
   "metadata": {},
   "outputs": [],
   "source": [
    "import keras\n",
    "from keras import models\n",
    "from keras.layers import core, convolutional, LSTM, Embedding, Dense, Dropout\n",
    "from keras.optimizers import SGD, Adam\n",
    "from selenium import webdriver\n",
    "from selenium.webdriver.common.keys import Keys\n",
    "#import cv2\n",
    "import os\n",
    "from pprint import pprint\n",
    "import random\n",
    "import time\n",
    "import numpy as np\n",
    "import pandas as pd\n",
    "from matplotlib import pyplot as plt\n",
    "from collections import Counter"
   ]
  },
  {
   "cell_type": "code",
   "execution_count": 3,
   "metadata": {},
   "outputs": [],
   "source": [
    "class Game:\n",
    "    def __init__(self, custom_config=False):\n",
    "        chrome_options = webdriver.chrome.options.Options()\n",
    "        chrome_options.add_argument(\"disable_infobars\")\n",
    "        self.driver = webdriver.Chrome(executable_path=\"chromedriver\", options=chrome_options)\n",
    "        self.driver.set_window_position(x=-10,y=0)\n",
    "        self.driver.set_window_size(200, 700)\n",
    "        self.driver.get(\"https://play2048.co/\")\n",
    "        self.driver.execute_script(\"myGM = new GameManager(4, KeyboardInputManager, HTMLActuator, LocalStorageManager);\")\n",
    "\n",
    "\n",
    "    def get_crashed(self):\n",
    "        return self.driver.execute_script(\"return myGM.isGameTerminated();\")\n",
    "    def get_board(self):\n",
    "        grid = self.driver.execute_script(\"return myGM.grid.cells;\")\n",
    "        #print(grid)\n",
    "        mygrid = []\n",
    "        for line in grid:\n",
    "            a = [x['value'] if x != None else 0 for x in line]\n",
    "            #a = [1 if x != None else 0 for x in line]\n",
    "            mygrid.append(a)\n",
    "        #pprint(mygrid)\n",
    "        return np.array(mygrid).reshape(1,16)\n",
    "\n",
    "    def get_score(self):\n",
    "        return self.driver.execute_script(\"return myGM.score;\")\n",
    "        #return self.driver.find_element_by_class_name(\"score-container\").text\n",
    "    def restart(self):\n",
    "        self.driver.execute_script(\"myGM.restart();\")\n",
    "    def move(self, direction=\"up\"):\n",
    "        if direction==0:\n",
    "            key = Keys.ARROW_UP\n",
    "        elif direction==1:\n",
    "            key = Keys.ARROW_DOWN\n",
    "        elif direction==2:\n",
    "            key = Keys.ARROW_LEFT\n",
    "        elif direction==3:\n",
    "            key = Keys.ARROW_RIGHT\n",
    "        self.driver.find_element_by_tag_name(\"body\").send_keys(key)\n",
    "        "
   ]
  },
  {
   "cell_type": "code",
   "execution_count": 36,
   "metadata": {},
   "outputs": [],
   "source": [
    "def play(game, n=1, slow=False, once=False, restartAfterXMoves=None, with_replay=True, verbose=False):\n",
    "    scores = []\n",
    "    game_counter = 0\n",
    "    prediction = None\n",
    "    epsilon = 75\n",
    "    while game_counter < n:\n",
    "        x_moves = 0\n",
    "        while not g.get_crashed():\n",
    "            if slow:\n",
    "                time.sleep(0.75)\n",
    "            prev_score = g.get_score()\n",
    "            old_state = g.get_board()\n",
    "            \n",
    "            # exploring randomly some new branches\n",
    "            if random.randint(0, 200) < epsilon:\n",
    "                final_move = random.randint(0,3)\n",
    "            else:\n",
    "                print(np.shape(old_state))\n",
    "                prediction = agent.model.predict(old_state)\n",
    "                predicted_move = np.argmax(prediction)\n",
    "                final_move = predicted_move\n",
    "                moveCounter.update([final_move])\n",
    "            g.move(final_move)\n",
    "            new_state = g.get_board()\n",
    "            \n",
    "            # if no points achieved, give negative reward\n",
    "            reward = g.get_score() - prev_score -1\n",
    "            done = g.get_crashed()\n",
    "            #print(final_move)\n",
    "            \n",
    "            \n",
    "            if done:\n",
    "                reward = -10\n",
    "            agent.train_short_memory(old_state, final_move, reward, new_state, done, verbose=verbose)\n",
    "            agent.remember_long_term(old_state, final_move, reward, new_state, done)\n",
    "            if verbose:\n",
    "                print(final_move)\n",
    "                #print(prediction)\n",
    "                print(reward)\n",
    "            if once:\n",
    "                return\n",
    "            x_moves += 1\n",
    "            if restartAfterXMoves and x_moves>=restartAfterXMoves:\n",
    "                break\n",
    "        if with_replay:\n",
    "            agent.replay_new(agent.memory)\n",
    "        game_counter += 1\n",
    "        print(\"Game\", game_counter, \"\\tScore: \", g.get_score())\n",
    "        scores.append(g.get_score())\n",
    "        g.restart()\n",
    "    return scores"
   ]
  },
  {
   "cell_type": "code",
   "execution_count": 5,
   "metadata": {},
   "outputs": [],
   "source": [
    "class myDQNAgent():\n",
    "    def __init__(self, game):\n",
    "        #self.reward = 0\n",
    "        self.gamma = 0.5\n",
    "        #self.dataframe = pd.DataFrame()\n",
    "        self.short_memory = np.array([])\n",
    "        #self.agent_target = 1\n",
    "        #self.agent_predict = 0\n",
    "        self.learning_rate = 0.001\n",
    "        self.game = game\n",
    "        #self.model = self.network()\n",
    "        #self.model = self.network(\"weights.hdf5\")\n",
    "        self.epsilon = 0\n",
    "        #self.actual = []\n",
    "        self.memory = []\n",
    "        self.model = self.buildmodel()\n",
    "        \n",
    "    def buildmodel(self):\n",
    "        print(\"building a model\")\n",
    "        model = models.Sequential()\n",
    "        model.add(Dense(16, activation='relu', input_dim=16))\n",
    "        #model.add(Dropout(0.15))\n",
    "        #model.add(Dense(50, activation='relu'))\n",
    "        #model.add(Dropout(0.15))\n",
    "        model.add(Dense(20, activation='relu'))\n",
    "        #model.add(Dropout(0.15))\n",
    "\n",
    "        #model.add(Dense(30, input_dim=16, activation='relu'))\n",
    "        #model.add(Dropout(0.15))\n",
    "        #model.add(Dense(30, activation='relu'))\n",
    "        #model.add(Dropout(0.15))\n",
    "        #model.add(Dense(8, activation='relu'))\n",
    "        #model.add(Dropout(0.15))\n",
    "        model.add(Dense(4, activation='linear'))\n",
    "        opt = Adam(lr=self.learning_rate)\n",
    "        model.compile(loss='mse', optimizer=opt)\n",
    "        print(\"model built\")\n",
    "        return model\n",
    "    \n",
    "    def remember_long_term(self, state, action, reward, next_state, terminated):\n",
    "        self.memory.append((state, action, reward, next_state, terminated))\n",
    "        \n",
    "    def train_short_memory(self, state, action, reward, next_state, terminated, verbose=False):\n",
    "        target = reward\n",
    "        #print(state)\n",
    "        #print(np.shape(state))\n",
    "        q = self.model.predict(state)\n",
    "        qn = self.model.predict(next_state)\n",
    "        if not terminated:\n",
    "            target = reward + self.gamma * np.max(qn[0])\n",
    "        if verbose:\n",
    "            print(q)\n",
    "        q[0][action] = target\n",
    "        if verbose:\n",
    "            print(q)\n",
    "        self.model.fit(state, q, epochs=1, verbose=0)\n",
    "   \n",
    "    def replay_new(self, memory):\n",
    "        if len(memory) > 500:\n",
    "            minibatch = random.sample(memory, 200)\n",
    "        else:\n",
    "            minibatch = memory\n",
    "        for state, action, reward, next_state, terminated in minibatch:\n",
    "            q = self.model.predict(state)\n",
    "            qn = self.model.predict(next_state)\n",
    "            target = reward\n",
    "\n",
    "            if not terminated:\n",
    "                target = reward + self.gamma * np.max(qn[0])\n",
    "            #target_f = self.model.predict(state.reshape((1,16)))\n",
    "            #print(q)\n",
    "            #print(target)\n",
    "            q[0][action] = target\n",
    "            #t = time.time()\n",
    "            r = self.model.fit(state, q, epochs=1, verbose=0)\n",
    "            "
   ]
  },
  {
   "cell_type": "code",
   "execution_count": 25,
   "metadata": {},
   "outputs": [],
   "source": [
    "g = Game()"
   ]
  },
  {
   "cell_type": "code",
   "execution_count": 26,
   "metadata": {
    "scrolled": false
   },
   "outputs": [
    {
     "name": "stdout",
     "output_type": "stream",
     "text": [
      "building a model\n",
      "model built\n"
     ]
    }
   ],
   "source": [
    "agent = myDQNAgent(g)"
   ]
  },
  {
   "cell_type": "code",
   "execution_count": 71,
   "metadata": {},
   "outputs": [],
   "source": [
    "moveCounter = Counter()"
   ]
  },
  {
   "cell_type": "code",
   "execution_count": null,
   "metadata": {
    "scrolled": false
   },
   "outputs": [],
   "source": [
    "s = play(g, n=100, once=False,slow=False, restartAfterXMoves=10, with_replay=True, verbose=True)"
   ]
  },
  {
   "cell_type": "code",
   "execution_count": 73,
   "metadata": {
    "scrolled": false
   },
   "outputs": [
    {
     "data": {
      "image/png": "[encoded data removed]",
      "text/plain": [
       "<matplotlib.figure.Figure at 0x1392629b0>"
      ]
     },
     "metadata": {},
     "output_type": "display_data"
    }
   ],
   "source": [
    "a = np.average(s)\n",
    "plt.figure(1)\n",
    "plt.subplot(311)\n",
    "plt.plot(s)\n",
    "plt.plot(pd.Series(s).rolling(window=5).mean().iloc[5-1:].values)\n",
    "plt.hlines(a, 0, len(s), colors='r', linestyles=\"dashed\")\n",
    "plt.subplot(312)\n",
    "plt.hist(s, bins=10)\n",
    "plt.subplot(313)\n",
    "plt.bar(list(moveCounter.keys()), list(moveCounter.values()))\n",
    "plt.xticks(list(moveCounter.keys()))\n",
    "plt.show()"
   ]
  },
  {
   "cell_type": "code",
   "execution_count": null,
   "metadata": {
    "scrolled": true
   },
   "outputs": [],
   "source": [
    "old_state = g.get_board()\n",
    "prediction = agent.model.predict(old_state.reshape(1,16))\n",
    "print(prediction)"
   ]
  },
  {
   "cell_type": "code",
   "execution_count": null,
   "metadata": {},
   "outputs": [],
   "source": [
    "for i in agent.memory:\n",
    "    if np.array_equal(i[0], old_state):\n",
    "        print(i)"
   ]
  },
  {
   "cell_type": "code",
   "execution_count": null,
   "metadata": {},
   "outputs": [],
   "source": [
    "q = np.array([[0, 0, 1, 1]], dtype=\"float32\")"
   ]
  },
  {
   "cell_type": "code",
   "execution_count": null,
   "metadata": {
    "scrolled": true
   },
   "outputs": [],
   "source": [
    "h = agent.model.fit(b, q, epochs=1, verbose=1)"
   ]
  },
  {
   "cell_type": "code",
   "execution_count": null,
   "metadata": {},
   "outputs": [],
   "source": [
    "b = g.get_board().reshape(1,16)\n",
    "agent.model.predict(b)"
   ]
  },
  {
   "cell_type": "code",
   "execution_count": 74,
   "metadata": {},
   "outputs": [
    {
     "data": {
      "text/plain": [
       "array([[17.173529, 14.469221, 17.179583, 17.521086]], dtype=float32)"
      ]
     },
     "execution_count": 74,
     "metadata": {},
     "output_type": "execute_result"
    }
   ],
   "source": [
    "b = np.array([2, 2, 2, 2, 2, 2, 2, 2, 2, 2, 2, 2, 2, 2, 2, 2]).reshape(1,16)\n",
    "agent.model.predict(b)"
   ]
  },
  {
   "cell_type": "code",
   "execution_count": 75,
   "metadata": {},
   "outputs": [
    {
     "data": {
      "text/plain": [
       "array([[0.8242398 , 0.8183702 , 1.0555861 , 0.84866697]], dtype=float32)"
      ]
     },
     "execution_count": 75,
     "metadata": {},
     "output_type": "execute_result"
    }
   ],
   "source": [
    "b = np.zeros(16).reshape(1,16)\n",
    "agent.model.predict(b)"
   ]
  },
  {
   "cell_type": "code",
   "execution_count": null,
   "metadata": {},
   "outputs": [],
   "source": [
    "pprint(agent.memory)"
   ]
  },
  {
   "cell_type": "code",
   "execution_count": null,
   "metadata": {},
   "outputs": [],
   "source": [
    "agent.model.optimizer.get_weights()"
   ]
  },
  {
   "cell_type": "code",
   "execution_count": null,
   "metadata": {},
   "outputs": [],
   "source": [
    "s_ver"
   ]
  },
  {
   "cell_type": "code",
   "execution_count": null,
   "metadata": {},
   "outputs": [],
   "source": [
    "s_hor"
   ]
  },
  {
   "cell_type": "code",
   "execution_count": null,
   "metadata": {},
   "outputs": [],
   "source": [
    "for i in range(1000):\n",
    "    agent.model.fit(s_hor.reshape(1, 16), np.array([[-1, -1, 1, 1]], dtype=\"float32\"))\n",
    "    agent.model.fit(s_ver.reshape(1, 16), np.array([[1, 1, -1, -1]]))"
   ]
  },
  {
   "cell_type": "code",
   "execution_count": null,
   "metadata": {},
   "outputs": [],
   "source": [
    "agent.model.predict(s_hor.reshape(1,16))"
   ]
  },
  {
   "cell_type": "code",
   "execution_count": null,
   "metadata": {},
   "outputs": [],
   "source": [
    "agent.model.predict(s_ver.reshape(1,16))"
   ]
  },
  {
   "cell_type": "code",
   "execution_count": null,
   "metadata": {},
   "outputs": [],
   "source": [
    "old_state=old_state.reshape((16))"
   ]
  },
  {
   "cell_type": "code",
   "execution_count": null,
   "metadata": {},
   "outputs": [],
   "source": [
    "print(old_state)"
   ]
  },
  {
   "cell_type": "code",
   "execution_count": null,
   "metadata": {},
   "outputs": [],
   "source": [
    "np.shape(old_state)"
   ]
  },
  {
   "cell_type": "code",
   "execution_count": null,
   "metadata": {},
   "outputs": [],
   "source": []
  }
 ],
 "metadata": {
  "kernelspec": {
   "display_name": "Python 3",
   "language": "python",
   "name": "python3"
  },
  "language_info": {
   "codemirror_mode": {
    "name": "ipython",
    "version": 3
   },
   "file_extension": ".py",
   "mimetype": "text/x-python",
   "name": "python",
   "nbconvert_exporter": "python",
   "pygments_lexer": "ipython3",
   "version": "3.6.4"
  }
 },
 "nbformat": 4,
 "nbformat_minor": 2
}
